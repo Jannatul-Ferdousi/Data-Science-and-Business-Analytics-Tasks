{
 "cells": [
  {
   "cell_type": "markdown",
   "metadata": {},
   "source": [
    "# Task-3: Exploratory Data Analysis - Retail\n",
    "### Submitted by: Jannatul Ferdousi\n",
    "#### Here I will try to find out the weak areas in the given dataset to make more profit using Python"
   ]
  },
  {
   "cell_type": "markdown",
   "metadata": {},
   "source": [
    "### Importing necessary libraries"
   ]
  },
  {
   "cell_type": "code",
   "execution_count": null,
   "metadata": {},
   "outputs": [],
   "source": [
    "import pandas as pd\n",
    "import numpy as np\n",
    "import seaborn as sns\n",
    "import matplotlib.pyplot as plt"
   ]
  },
  {
   "cell_type": "markdown",
   "metadata": {},
   "source": [
    "#### Getting Dataset"
   ]
  },
  {
   "cell_type": "code",
   "execution_count": null,
   "metadata": {},
   "outputs": [],
   "source": [
    "superstore= pd.read_csv(\"SampleSuperstore.csv\")\n",
    "superstore"
   ]
  },
  {
   "cell_type": "markdown",
   "metadata": {},
   "source": [
    "### CHecking The data types"
   ]
  },
  {
   "cell_type": "code",
   "execution_count": null,
   "metadata": {},
   "outputs": [],
   "source": [
    "superstore.info()"
   ]
  },
  {
   "cell_type": "code",
   "execution_count": null,
   "metadata": {},
   "outputs": [],
   "source": [
    "superstore.describe()"
   ]
  },
  {
   "cell_type": "markdown",
   "metadata": {},
   "source": [
    "## Checking the NULL Values"
   ]
  },
  {
   "cell_type": "code",
   "execution_count": null,
   "metadata": {},
   "outputs": [],
   "source": [
    "superstore.isnull().sum()"
   ]
  },
  {
   "cell_type": "markdown",
   "metadata": {},
   "source": [
    "#### There is no NULLL Values"
   ]
  },
  {
   "cell_type": "code",
   "execution_count": null,
   "metadata": {},
   "outputs": [],
   "source": [
    "superstore.columns"
   ]
  },
  {
   "cell_type": "markdown",
   "metadata": {},
   "source": [
    "#### \"Country\" and \"Postal Codes\" are being removed as they have no impact on the analysis"
   ]
  },
  {
   "cell_type": "code",
   "execution_count": null,
   "metadata": {},
   "outputs": [],
   "source": [
    "superstore.drop_duplicates(inplace=True)\n",
    "superstore=superstore.drop(['Country','Postal Code'], axis=1)"
   ]
  },
  {
   "cell_type": "markdown",
   "metadata": {},
   "source": [
    "###### Correlating the data using The Method KENDALL"
   ]
  },
  {
   "cell_type": "code",
   "execution_count": null,
   "metadata": {},
   "outputs": [],
   "source": [
    "correlation=superstore.corr(method='kendall')\n",
    "correlation"
   ]
  },
  {
   "cell_type": "markdown",
   "metadata": {},
   "source": [
    "### Visualizing Data on Heatmap"
   ]
  },
  {
   "cell_type": "code",
   "execution_count": null,
   "metadata": {},
   "outputs": [],
   "source": [
    "sns.heatmap(correlation, xticklabels= correlation.columns, yticklabels= correlation.columns, annot= True,)"
   ]
  },
  {
   "cell_type": "markdown",
   "metadata": {},
   "source": [
    "## Pie Charts"
   ]
  },
  {
   "cell_type": "code",
   "execution_count": null,
   "metadata": {},
   "outputs": [],
   "source": [
    "plt.figure(figsize=(8,8))\n",
    "superstore['Region'].value_counts().plot.pie(autopct='%1.2f%%')"
   ]
  },
  {
   "cell_type": "markdown",
   "metadata": {},
   "source": [
    "#### About 32% of the cities are in West region. Second largerst region is East. The Central and South region comes as follows."
   ]
  },
  {
   "cell_type": "code",
   "execution_count": null,
   "metadata": {},
   "outputs": [],
   "source": [
    "plt.figure(figsize=(8,8))\n",
    "superstore['Ship Mode'].value_counts().plot.pie(autopct='%1.2f%%')"
   ]
  },
  {
   "cell_type": "markdown",
   "metadata": {},
   "source": [
    "### Unique number of values of the columns"
   ]
  },
  {
   "cell_type": "code",
   "execution_count": null,
   "metadata": {},
   "outputs": [],
   "source": [
    "for col in superstore.columns:\n",
    "    if superstore[col].dtype=='object':\n",
    "        print(f'Unique {col} number is {superstore[col].nunique()}')\n",
    "        print(\"------------------------------"
   ]
  },
  {
   "cell_type": "markdown",
   "metadata": {},
   "source": [
    "# Pairplotting the dataset considering Category and Region as hue"
   ]
  },
  {
   "cell_type": "code",
   "execution_count": null,
   "metadata": {},
   "outputs": [],
   "source": [
    "sns.pairplot(superstore, hue='Category')"
   ]
  },
  {
   "cell_type": "code",
   "execution_count": null,
   "metadata": {},
   "outputs": [],
   "source": [
    "sns.pairplot(superstore, hue='Region')"
   ]
  },
  {
   "cell_type": "markdown",
   "metadata": {},
   "source": [
    "## I have grouped superstore data according to category to see which product is being sold most and to visulaize."
   ]
  },
  {
   "cell_type": "code",
   "execution_count": null,
   "metadata": {},
   "outputs": [],
   "source": [
    "cat_group= superstore.groupby(\"Category\")\n",
    "total_quantity_sold= cat_group[\"Quantity\"].agg(np.sum).sort_values(ascending= False).reset_index()\n",
    "total_quantity_sold"
   ]
  },
  {
   "cell_type": "code",
   "execution_count": null,
   "metadata": {},
   "outputs": [],
   "source": [
    "plt.figure(figsize=(8,8))\n",
    "superstore['Category'].value_counts().plot.pie(autopct='%1.1f%%')"
   ]
  },
  {
   "cell_type": "markdown",
   "metadata": {},
   "source": [
    "####  From the output table and pie chart above, we can see that office supplies products have been in the top with total quantity of 22861 , which is 60.3% of the total product sold."
   ]
  },
  {
   "cell_type": "code",
   "execution_count": null,
   "metadata": {},
   "outputs": [],
   "source": [
    "subcat_group= superstore.groupby(\"Sub-Category\")\n",
    "total_quantity_sold= subcat_group[\"Quantity\"].agg(np.sum).sort_values(ascending= False).reset_index()\n",
    "total_quantity_sold"
   ]
  },
  {
   "cell_type": "code",
   "execution_count": null,
   "metadata": {},
   "outputs": [],
   "source": [
    "sns.barplot(x='Category', y='Sales', hue='Region', data= superstore, )"
   ]
  },
  {
   "cell_type": "code",
   "execution_count": null,
   "metadata": {},
   "outputs": [],
   "source": [
    "sns.barplot(x='Category', y='Profit', hue='Region', data= superstore, )"
   ]
  },
  {
   "cell_type": "code",
   "execution_count": null,
   "metadata": {},
   "outputs": [],
   "source": [
    "plt.figure(figsize=(9,6))\n",
    "sns.barplot(x='Category', y='Profit', hue='Ship Mode', data= superstore, )"
   ]
  },
  {
   "cell_type": "code",
   "execution_count": null,
   "metadata": {},
   "outputs": [],
   "source": [
    "plt.figure(figsize=(9,6))\n",
    "sns.barplot(x='Category', y='Sales', hue='Ship Mode', data= superstore, )"
   ]
  },
  {
   "cell_type": "code",
   "execution_count": null,
   "metadata": {},
   "outputs": [],
   "source": [
    "data=sns.barplot(x='Region', y='Sales', data= superstore,)\n",
    "for item in data.get_xticklabels():\n",
    "    item.set_rotation(90)"
   ]
  },
  {
   "cell_type": "code",
   "execution_count": null,
   "metadata": {},
   "outputs": [],
   "source": [
    "data=sns.barplot(x='Region', y='Profit', data= superstore,)\n",
    "for item in data.get_xticklabels():\n",
    "    item.set_rotation(90)"
   ]
  },
  {
   "cell_type": "markdown",
   "metadata": {},
   "source": [
    "#### From four barchart shown above, it seems that technology products dominates in Sales, profits according to ship mode and region.\n",
    "\n",
    "## Lets sub-categorize Technology and see which subcategory dominates others in Sales, Profits according to Region, Ship_mode"
   ]
  },
  {
   "cell_type": "code",
   "execution_count": null,
   "metadata": {},
   "outputs": [],
   "source": [
    "tech_data= superstore[superstore['Category']=='Technology']\n",
    "plt.figure(figsize=(9,6))\n",
    "sns.barplot(x='Sub-Category', y='Sales',  data= tech_data, )"
   ]
  },
  {
   "cell_type": "code",
   "execution_count": null,
   "metadata": {},
   "outputs": [],
   "source": [
    "plt.figure(figsize=(9,6))\n",
    "sns.barplot(x='Sub-Category', y='Profit', data= tech_data,palette='magma' )"
   ]
  },
  {
   "cell_type": "code",
   "execution_count": null,
   "metadata": {},
   "outputs": [],
   "source": [
    "plt.figure(figsize=(9,6))\n",
    "plt.title(\"Sales of Technology's sub-categories according to Ship_mode\")\n",
    "sns.barplot(x='Sub-Category', y='Sales', hue='Ship Mode', data= tech_data, )"
   ]
  },
  {
   "cell_type": "code",
   "execution_count": null,
   "metadata": {},
   "outputs": [],
   "source": [
    "plt.figure(figsize=(9,6))\n",
    "plt.title(\"Profit of Technology's sub-categories according to Ship_mode\")\n",
    "sns.barplot(x='Sub-Category', y='Profit', hue='Ship Mode', data= tech_data, )"
   ]
  },
  {
   "cell_type": "code",
   "execution_count": null,
   "metadata": {},
   "outputs": [],
   "source": [
    "plt.figure(figsize=(9,6))\n",
    "plt.title(\"Sales of Technology's sub-categories according to Region\")\n",
    "sns.barplot(x='Sub-Category', y='Sales', hue='Region', data= tech_data, )"
   ]
  },
  {
   "cell_type": "code",
   "execution_count": null,
   "metadata": {},
   "outputs": [],
   "source": [
    "plt.figure(figsize=(9,6))\n",
    "plt.title(\"Profit of Technology's sub-categories according to Region\")\n",
    "sns.barplot(x='Sub-Category', y='Profit', hue='Region', data= tech_data, )"
   ]
  },
  {
   "cell_type": "markdown",
   "metadata": {},
   "source": [
    "## Grouping dataset according to Cities to see which ity makes highest and lowest total Sales and profits"
   ]
  },
  {
   "cell_type": "code",
   "execution_count": null,
   "metadata": {},
   "outputs": [],
   "source": [
    "city_group= superstore.groupby(\"City\")\n",
    "top_sales_among_cities= city_group[\"Sales\"].agg(np.sum).sort_values(ascending= False).reset_index()\n",
    "top_sales_among_cities"
   ]
  },
  {
   "cell_type": "code",
   "execution_count": null,
   "metadata": {},
   "outputs": [],
   "source": [
    "sales_bar=sns.barplot(x='City', y='Sales', data=top_sales_among_cities.head(15))\n",
    "for item in sales_bar.get_xticklabels():\n",
    "    item.set_rotation(90)"
   ]
  },
  {
   "cell_type": "code",
   "execution_count": null,
   "metadata": {},
   "outputs": [],
   "source": [
    "top_sales_among_cities= city_group[\"Profit\"].agg(np.sum).sort_values(ascending= False).reset_index()\n",
    "top_sales_among_cities"
   ]
  },
  {
   "cell_type": "code",
   "execution_count": null,
   "metadata": {},
   "outputs": [],
   "source": [
    "profit_bar=sns.barplot(x='City', y='Profit', data=top_sales_among_cities.head(15))\n",
    "for item in profit_bar.get_xticklabels():\n",
    "    item.set_rotation(90)"
   ]
  },
  {
   "cell_type": "code",
   "execution_count": null,
   "metadata": {},
   "outputs": [],
   "source": [
    "profit_bar_tail=sns.barplot(x='City', y='Profit', data=top_sales_among_cities.sort_values(by='Profit',ascending=True).head(15))\n",
    "for item in profit_bar_tail.get_xticklabels():\n",
    "    item.set_rotation(90)"
   ]
  },
  {
   "cell_type": "code",
   "execution_count": null,
   "metadata": {},
   "outputs": [],
   "source": [
    "average_sale=city_group['Sales'].agg(np.mean).sort_values(ascending=False).reset_index()\n",
    "average_profit=city_group['Profit'].agg(np.mean).sort_values(ascending=False).reset_index()\n",
    "average_discount=city_group['Discount'].agg(np.mean).sort_values(ascending=False).reset_index()\n",
    "print(f'Average Sale:   ')\n",
    "print('-----------------------')\n",
    "print(average_sale.head())\n",
    "print(f'Average Profit:  ')\n",
    "print('-----------------------')\n",
    "print(average_profit.head())\n",
    "print(f'Average Discount:  ')\n",
    "print('-----------------------')\n",
    "print(average_discount.head())"
   ]
  },
  {
   "cell_type": "code",
   "execution_count": null,
   "metadata": {},
   "outputs": [],
   "source": [
    "high_sales= average_sale[average_sale['Sales']> 600]\n",
    "low_sales= average_sale[average_sale['Sales']<= 50 ]\n",
    "\n",
    "\n",
    "high_profit= average_profit[average_profit['Profit']> 100]\n",
    "low_profit= average_profit[average_profit['Profit']<= 0]\n",
    "\n",
    "\n",
    "high_discount= average_discount[average_discount['Discount']>= 0.6]\n",
    "low_discount= average_discount[average_discount['Discount']< 0.6]"
   ]
  },
  {
   "cell_type": "code",
   "execution_count": null,
   "metadata": {},
   "outputs": [],
   "source": [
    "high_sale_and_profit= pd.merge(high_sales,high_profit, on=['City'], how='inner')\n",
    "high_sale_and_profit"
   ]
  },
  {
   "cell_type": "code",
   "execution_count": null,
   "metadata": {},
   "outputs": [],
   "source": [
    "low_sale_and_profit= pd.merge(low_sales,low_profit, on=['City'], how='inner')\n",
    "low_sale_and_profit"
   ]
  },
  {
   "cell_type": "code",
   "execution_count": null,
   "metadata": {},
   "outputs": [],
   "source": [
    "high_sale_low_profit= pd.merge(high_sales,low_profit, on=['City'], how='inner')\n",
    "high_sale_low_profit"
   ]
  },
  {
   "cell_type": "code",
   "execution_count": null,
   "metadata": {},
   "outputs": [],
   "source": [
    "high_sale_low_discount= pd.merge(high_sales,low_discount, on=['City'], how='inner')\n",
    "high_sale_low_discount"
   ]
  }
 ],
 "metadata": {
  "kernelspec": {
   "display_name": "Python 3",
   "language": "python",
   "name": "python3"
  },
  "language_info": {
   "codemirror_mode": {
    "name": "ipython",
    "version": 3
   },
   "file_extension": ".py",
   "mimetype": "text/x-python",
   "name": "python",
   "nbconvert_exporter": "python",
   "pygments_lexer": "ipython3",
   "version": "3.8.5"
  }
 },
 "nbformat": 4,
 "nbformat_minor": 4
}
